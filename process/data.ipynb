{
 "cells": [
  {
   "cell_type": "code",
   "execution_count": null,
   "metadata": {},
   "outputs": [],
   "source": [
    "from opencc import OpenCC\n",
    "cc = OpenCC('t2s')"
   ]
  },
  {
   "cell_type": "code",
   "execution_count": null,
   "metadata": {},
   "outputs": [],
   "source": [
    "import csv\n",
    "import pandas as pd"
   ]
  },
  {
   "cell_type": "code",
   "execution_count": null,
   "metadata": {},
   "outputs": [],
   "source": [
    "ids = pd.read_csv(r'id.csv')\n",
    "\n",
    "name2id = {}\n",
    "\n",
    "for i,row in ids.iterrows():\n",
    "  name = cc.convert(row['name'])\n",
    "  id = row['c_id']\n",
    "  if name not in name2id:\n",
    "    name2id[name] = set()\n",
    "  name2id[name].add(id)\n",
    "\n"
   ]
  },
  {
   "cell_type": "code",
   "execution_count": null,
   "metadata": {},
   "outputs": [],
   "source": [
    "data = pd.read_csv(r'data.csv')\n",
    "\n",
    "ids = []\n",
    "\n",
    "notFound = [];\n",
    "notKnown = [];\n",
    "for i,row in data.iterrows():\n",
    "  name=row['authorNameCN']\n",
    "  cid = name2id.get(name,None)\n",
    "  if cid == None:\n",
    "    notFound.append(name)\n",
    "    print('id冲突',  name)\n",
    "    ids.append(None)\n",
    "  elif len(cid) == 1:\n",
    "    aids = list(cid)\n",
    "    ids.append(str(aids[0]))\n",
    "  else:\n",
    "    print('id冲突', cid, name)\n",
    "    notKnown.append({\n",
    "      'name': str(name),\n",
    "      'ids': list(cid)\n",
    "    })\n",
    "    ids.append(None)"
   ]
  },
  {
   "cell_type": "code",
   "execution_count": null,
   "metadata": {},
   "outputs": [],
   "source": []
  },
  {
   "cell_type": "code",
   "execution_count": null,
   "metadata": {},
   "outputs": [],
   "source": [
    "ids2 = pd.read_csv(r'id2.csv')\n",
    "\n",
    "name2id = {}\n",
    "\n",
    "for i,row in ids2.iterrows():\n",
    "  name = cc.convert(row['name'])\n",
    "  id = row['c_id']\n",
    "  if name not in name2id:\n",
    "    name2id[name] = set()\n",
    "  name2id[name].add(id)"
   ]
  },
  {
   "cell_type": "code",
   "execution_count": null,
   "metadata": {},
   "outputs": [],
   "source": [
    "name2id"
   ]
  },
  {
   "cell_type": "code",
   "execution_count": null,
   "metadata": {},
   "outputs": [],
   "source": [
    "data = pd.read_csv(r'data.csv')\n",
    "\n",
    "ids2 = []\n",
    "\n",
    "notFound = [];\n",
    "notKnown = [];\n",
    "for i,row in data.iterrows():\n",
    "  name=row['authorNameCN']\n",
    "  cid = name2id.get(name,None)\n",
    "  curCid = row['cid']\n",
    "  if ids[i] is not None:\n",
    "    ids2.append(curCid)\n",
    "    print(curCid)\n",
    "  elif cid == None:\n",
    "    notFound.append(name)\n",
    "    print('id冲突',  name)\n",
    "    ids2.append(None)\n",
    "  elif len(cid) == 1:\n",
    "    aids = list(cid)\n",
    "    ids2.append(str(aids[0]))\n",
    "  else:\n",
    "    print('id冲突', cid, name)\n",
    "    notKnown.append({\n",
    "      'name': str(name),\n",
    "      'ids': list(cid)\n",
    "    })\n",
    "    ids2.append(None)"
   ]
  },
  {
   "cell_type": "code",
   "execution_count": null,
   "metadata": {},
   "outputs": [],
   "source": [
    "len(notKnown)\n"
   ]
  },
  {
   "cell_type": "code",
   "execution_count": null,
   "metadata": {},
   "outputs": [],
   "source": [
    "data['cid'] = ids\n",
    "\n",
    "# print(len(data), len(ids))\n",
    "with open('data.csv', 'w') as csv_file:\n",
    "    data.to_csv(path_or_buf=csv_file, index=False)"
   ]
  },
  {
   "cell_type": "code",
   "execution_count": null,
   "metadata": {},
   "outputs": [],
   "source": [
    "import json\n",
    "json_object = json.dumps({\n",
    "    'notFound': notFound,\n",
    "    'notKnown': notKnown,\n",
    "  },ensure_ascii=False,)\n",
    "with open(\"sample.json\", \"w\", encoding='utf-8' ) as outfile:\n",
    "  outfile.write(json_object)"
   ]
  }
 ],
 "metadata": {
  "kernelspec": {
   "display_name": "Python 3.9.12 ('base')",
   "language": "python",
   "name": "python3"
  },
  "language_info": {
   "codemirror_mode": {
    "name": "ipython",
    "version": 3
   },
   "file_extension": ".py",
   "mimetype": "text/x-python",
   "name": "python",
   "nbconvert_exporter": "python",
   "pygments_lexer": "ipython3",
   "version": "3.9.12"
  },
  "orig_nbformat": 4,
  "vscode": {
   "interpreter": {
    "hash": "1caa323cc2a6d408c37da6d84ea4e87394cb94ee2f18f625bc583c0f9c1a0b76"
   }
  }
 },
 "nbformat": 4,
 "nbformat_minor": 2
}
