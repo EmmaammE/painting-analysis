{
 "cells": [
  {
   "cell_type": "code",
   "execution_count": null,
   "metadata": {},
   "outputs": [],
   "source": [
    "from pypinyin import pinyin, Style"
   ]
  },
  {
   "cell_type": "code",
   "execution_count": null,
   "metadata": {},
   "outputs": [],
   "source": [
    "py = pinyin('边景昭', style=Style.NORMAL)\n",
    "\n"
   ]
  },
  {
   "cell_type": "code",
   "execution_count": null,
   "metadata": {},
   "outputs": [],
   "source": [
    "py[0][0]"
   ]
  },
  {
   "cell_type": "code",
   "execution_count": 10,
   "metadata": {},
   "outputs": [],
   "source": [
    "import pandas as pd\n",
    "import math\n",
    "\n",
    "data_csv = pd.read_csv(r'data.csv')\n",
    "names = []\n",
    "for i,row in data_csv.iterrows():\n",
    "  if math.isnan(row['cid']) == True:\n",
    "    names.append(row['authorNameCN'])\n"
   ]
  },
  {
   "cell_type": "code",
   "execution_count": 11,
   "metadata": {},
   "outputs": [],
   "source": [
    "allpy = []\n",
    "for name in names:\n",
    "  py = pinyin(name, style=Style.NORMAL)\n",
    "\n",
    "  if len(py) == 2:\n",
    "    a = py[0][0].capitalize() + ' ' + py[1][0].capitalize()\n",
    "  elif len(py) == 3:\n",
    "    a = str(py[0][0]).capitalize() + ' ' + py[1][0].capitalize()+py[2][0]\n",
    "  allpy.append(a)"
   ]
  },
  {
   "cell_type": "code",
   "execution_count": 12,
   "metadata": {},
   "outputs": [
    {
     "data": {
      "text/plain": [
       "126"
      ]
     },
     "execution_count": 12,
     "metadata": {},
     "output_type": "execute_result"
    }
   ],
   "source": [
    "len(allpy)"
   ]
  },
  {
   "cell_type": "code",
   "execution_count": 8,
   "metadata": {},
   "outputs": [
    {
     "data": {
      "text/plain": [
       "('Bian Jingzhao',\n",
       " 'Bian Shoumin',\n",
       " 'Ceng Jing',\n",
       " 'Cha Shibiao',\n",
       " 'Chen Chun',\n",
       " 'Chen Gua',\n",
       " 'Chen Jizhi',\n",
       " 'Chen Jiayan',\n",
       " 'Chen Juzhong',\n",
       " 'Chen Xuan',\n",
       " 'Chen Zhuo',\n",
       " 'Chen Zihe',\n",
       " 'Cheng Qi',\n",
       " 'Chou Ying',\n",
       " 'Dai Chun',\n",
       " 'Deng Yu',\n",
       " 'Fa Chang',\n",
       " 'Gao Cen',\n",
       " 'Gao Jian',\n",
       " 'Gao Ranhui',\n",
       " 'Gao Xiang',\n",
       " 'Gong Xian',\n",
       " 'Gu Kaizhi',\n",
       " 'Guan Tong',\n",
       " 'Guan Xiu',\n",
       " 'Han Gan',\n",
       " 'Hong Ren',\n",
       " 'Hu Gui',\n",
       " 'Hu Tinghui',\n",
       " 'Hu Zhifu',\n",
       " 'Hua Zuli',\n",
       " 'Huang Xiangjian',\n",
       " 'Hui Chong',\n",
       " 'Jin Fu',\n",
       " 'Jin Nong',\n",
       " 'Jin Tingbiao',\n",
       " 'Ju Jie',\n",
       " 'Ju Ran',\n",
       " 'Kun Can',\n",
       " 'Lai An',\n",
       " 'Lang Shining',\n",
       " 'Li Fangying',\n",
       " 'Li Shan',\n",
       " 'Li Yaofu',\n",
       " 'Li Zanhua',\n",
       " 'Li Zhao',\n",
       " 'Li Zhen',\n",
       " 'Liang Lingzan',\n",
       " 'Lin Juana',\n",
       " 'Lin Tinggui',\n",
       " 'Liu Guandao',\n",
       " 'Liu Jun',\n",
       " 'Liu Shanshou',\n",
       " 'Liu Yanchong',\n",
       " 'Liu Rushi',\n",
       " 'Lu Lengjia',\n",
       " 'Lu Dezhi',\n",
       " 'Lu Xinzhong',\n",
       " 'Lu Xingzhi',\n",
       " 'Lu Yuan',\n",
       " 'Lu Zhongyuan',\n",
       " 'Luo Zhichuan',\n",
       " 'Luo Chuang',\n",
       " 'Lv Huancheng',\n",
       " 'Lv Jingfu',\n",
       " 'Lv Xue',\n",
       " 'Mei Qing',\n",
       " 'Pu An',\n",
       " 'Qian Gong',\n",
       " 'Qiao Zhongchang',\n",
       " 'Ruan Gao',\n",
       " 'Shen Shichong',\n",
       " 'Shen Xun',\n",
       " 'Shi Zhong',\n",
       " 'Shi Puming',\n",
       " 'Song Ke',\n",
       " 'Song Xu',\n",
       " 'Sun Junze',\n",
       " 'Tan Zhirui',\n",
       " 'Wei Yan',\n",
       " 'Wei Xian',\n",
       " 'Wu Daozi',\n",
       " 'Wu Yuanzhi',\n",
       " 'Xia Chang',\n",
       " 'Xia Shuwen',\n",
       " 'Xia Yong',\n",
       " 'Xiang Shengmo',\n",
       " 'Xiao Yuncong',\n",
       " 'Xie Chufang',\n",
       " 'Xie Huan',\n",
       " 'Xie Tingzhi',\n",
       " 'Xu Yugong',\n",
       " 'Yao Tingmei',\n",
       " 'Yin Tuoluo',\n",
       " 'Yu Jian',\n",
       " 'Yuan Shangtong',\n",
       " 'Zhan Ziqian',\n",
       " 'Zhang Gui',\n",
       " 'Zhang Ji',\n",
       " 'Zhang Lu',\n",
       " 'Zhang Shengwen',\n",
       " 'Zhang Yu',\n",
       " 'Zhang Yu',\n",
       " 'Zhang Zeduan',\n",
       " 'Zhao Guangfu',\n",
       " 'Zhao Lin',\n",
       " 'Zhao Lin',\n",
       " 'Zhao Lingrang',\n",
       " 'Zhao Yuan',\n",
       " 'Zhao Zhong',\n",
       " 'Zhou Dongqing',\n",
       " 'Zhou Jichang',\n",
       " 'Zhu Lang',\n",
       " 'Zou Fulei',\n",
       " 'Huang Shanshou',\n",
       " 'Fan Qi',\n",
       " 'Zhou Zhimian',\n",
       " 'Shao Mi',\n",
       " 'Gao Qifeng',\n",
       " 'Zhang Sengyao',\n",
       " 'Luo Mu',\n",
       " 'Li Shan',\n",
       " 'Lu Tanwei',\n",
       " 'Ju Lian',\n",
       " 'Bian Wenyu',\n",
       " 'Hu Gongshou')"
      ]
     },
     "execution_count": 8,
     "metadata": {},
     "output_type": "execute_result"
    }
   ],
   "source": [
    "tuple(allpy)"
   ]
  }
 ],
 "metadata": {
  "kernelspec": {
   "display_name": "Python 3.9.12 ('base')",
   "language": "python",
   "name": "python3"
  },
  "language_info": {
   "codemirror_mode": {
    "name": "ipython",
    "version": 3
   },
   "file_extension": ".py",
   "mimetype": "text/x-python",
   "name": "python",
   "nbconvert_exporter": "python",
   "pygments_lexer": "ipython3",
   "version": "3.9.12"
  },
  "orig_nbformat": 4,
  "vscode": {
   "interpreter": {
    "hash": "1caa323cc2a6d408c37da6d84ea4e87394cb94ee2f18f625bc583c0f9c1a0b76"
   }
  }
 },
 "nbformat": 4,
 "nbformat_minor": 2
}
